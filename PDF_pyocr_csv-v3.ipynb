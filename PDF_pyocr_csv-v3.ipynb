{
 "cells": [
  {
   "cell_type": "code",
   "execution_count": 1,
   "metadata": {},
   "outputs": [],
   "source": [
    "#ディレクトリを中身ごと削除: shutil.rmtree() https://note.nkmk.me/python-os-remove-rmdir-removedirs-shutil-rmtree/\n",
    "import datetime\n",
    "now = datetime.date.today()\n",
    "import shutil\n",
    "shutil.rmtree('./trf/'+str(now)) \n",
    "shutil.rmtree('./results/'+str(now)) \n",
    "shutil.rmtree('./csv/'+str(now)) \n",
    "#Pythonで新しいディレクトリにファイルを作成・保存 https://note.nkmk.me/python-save-file-at-new-dir/\n",
    "import os\n",
    "os.mkdir('./trf/'+str(now)) \n",
    "os.mkdir('./results/'+str(now)) \n",
    "os.mkdir('./csv/'+str(now)) "
   ]
  },
  {
   "cell_type": "code",
   "execution_count": 2,
   "metadata": {},
   "outputs": [],
   "source": [
    "#https://shotanuki.com/python%E3%81%A7pdf%E3%82%92%E7%94%BB%E5%83%8F%E3%81%AB%E5%A4%89%E6%8F%9B%E3%81%99%E3%82%8B/\n",
    "#PythonでPDFを画像に変換する\n",
    "# pdf2image 2回PIPでインストールできた\n",
    "from pdf2image import convert_from_path\n",
    "import glob\n",
    "\n",
    "path_list = glob.glob('./mergedTRF/'+str(now)+'/*.pdf')\n",
    "print(path_list)"
   ]
  },
  {
   "cell_type": "code",
   "execution_count": 4,
   "metadata": {},
   "outputs": [
    {
     "ename": "FileExistsError",
     "evalue": "[Errno 17] File exists: './trf/2019-07-01/31.pdf'",
     "output_type": "error",
     "traceback": [
      "\u001b[0;31m---------------------------------------------------------------------------\u001b[0m",
      "\u001b[0;31mFileExistsError\u001b[0m                           Traceback (most recent call last)",
      "\u001b[0;32m<ipython-input-4-3c517c277d6d>\u001b[0m in \u001b[0;36m<module>\u001b[0;34m\u001b[0m\n\u001b[1;32m     17\u001b[0m     \u001b[0;32mif\u001b[0m \u001b[0mos\u001b[0m\u001b[0;34m.\u001b[0m\u001b[0mpath\u001b[0m\u001b[0;34m.\u001b[0m\u001b[0misfile\u001b[0m\u001b[0;34m(\u001b[0m\u001b[0mos\u001b[0m\u001b[0;34m.\u001b[0m\u001b[0mpath\u001b[0m\u001b[0;34m.\u001b[0m\u001b[0mjoin\u001b[0m\u001b[0;34m(\u001b[0m\u001b[0mpath\u001b[0m\u001b[0;34m,\u001b[0m \u001b[0mfoldername\u001b[0m\u001b[0;34m)\u001b[0m\u001b[0;34m)\u001b[0m\u001b[0;34m:\u001b[0m\u001b[0;34m\u001b[0m\u001b[0;34m\u001b[0m\u001b[0m\n\u001b[1;32m     18\u001b[0m         \u001b[0msubfolder\u001b[0m \u001b[0;34m=\u001b[0m \u001b[0mos\u001b[0m\u001b[0;34m.\u001b[0m\u001b[0mpath\u001b[0m\u001b[0;34m.\u001b[0m\u001b[0mbasename\u001b[0m\u001b[0;34m(\u001b[0m\u001b[0mpath\u001b[0m\u001b[0;34m)\u001b[0m\u001b[0;34m\u001b[0m\u001b[0;34m\u001b[0m\u001b[0m\n\u001b[0;32m---> 19\u001b[0;31m         \u001b[0mos\u001b[0m\u001b[0;34m.\u001b[0m\u001b[0mmkdir\u001b[0m\u001b[0;34m(\u001b[0m\u001b[0;34m'./trf/'\u001b[0m\u001b[0;34m+\u001b[0m\u001b[0mstr\u001b[0m\u001b[0;34m(\u001b[0m\u001b[0mnow\u001b[0m\u001b[0;34m)\u001b[0m\u001b[0;34m+\u001b[0m\u001b[0;34m'/'\u001b[0m\u001b[0;34m+\u001b[0m \u001b[0mfoldername\u001b[0m\u001b[0;34m)\u001b[0m\u001b[0;34m\u001b[0m\u001b[0;34m\u001b[0m\u001b[0m\n\u001b[0m\u001b[1;32m     20\u001b[0m         \u001b[0mos\u001b[0m\u001b[0;34m.\u001b[0m\u001b[0mmkdir\u001b[0m\u001b[0;34m(\u001b[0m\u001b[0;34m'./results/'\u001b[0m\u001b[0;34m+\u001b[0m\u001b[0mstr\u001b[0m\u001b[0;34m(\u001b[0m\u001b[0mnow\u001b[0m\u001b[0;34m)\u001b[0m\u001b[0;34m+\u001b[0m\u001b[0;34m'/'\u001b[0m\u001b[0;34m+\u001b[0m \u001b[0mfoldername\u001b[0m\u001b[0;34m)\u001b[0m\u001b[0;34m\u001b[0m\u001b[0;34m\u001b[0m\u001b[0m\n\u001b[1;32m     21\u001b[0m         \u001b[0mos\u001b[0m\u001b[0;34m.\u001b[0m\u001b[0mmkdir\u001b[0m\u001b[0;34m(\u001b[0m\u001b[0;34m'./csv/'\u001b[0m\u001b[0;34m+\u001b[0m\u001b[0mstr\u001b[0m\u001b[0;34m(\u001b[0m\u001b[0mnow\u001b[0m\u001b[0;34m)\u001b[0m\u001b[0;34m+\u001b[0m\u001b[0;34m'/'\u001b[0m\u001b[0;34m+\u001b[0m \u001b[0mfoldername\u001b[0m\u001b[0;34m)\u001b[0m\u001b[0;34m\u001b[0m\u001b[0;34m\u001b[0m\u001b[0m\n",
      "\u001b[0;31mFileExistsError\u001b[0m: [Errno 17] File exists: './trf/2019-07-01/31.pdf'"
     ]
    }
   ],
   "source": [
    "#PythonでOCRがんばる(1) hhttp://sakataharumi.hatenablog.jp/entry/2016/09/16/20160916040943/\n",
    "#tesseractでOCR〜数字だけでも〜 http://sakataharumi.hatenablog.jp/entry/2016/09/16/20160916052946/\n",
    "# p87 17.3.2 ステップ2：全ファイルをループして画像を開く https://www.oreilly.co.jp/pub/9784873117782/auto-sample.pdf\n",
    "\n",
    "from PIL import Image\n",
    "import cv2\n",
    "import sys,os\n",
    "import pyocr\n",
    "import pyocr.builders\n",
    "import csv\n",
    "import datetime\n",
    "now = datetime.date.today()\n",
    "\n",
    "# nowフォルダのPDFをループする\n",
    "path = './mergedTRF/'+ str(now)\n",
    "for foldername in os.listdir(path):# ❶\n",
    "    if os.path.isfile(os.path.join(path, foldername)):\n",
    "        subfolder = os.path.basename(path)\n",
    "        os.mkdir('./trf/'+str(now)+'/'+ foldername) \n",
    "        os.mkdir('./results/'+str(now)+'/'+ foldername) \n",
    "        os.mkdir('./csv/'+str(now)+'/'+ foldername) \n",
    "\n",
    "        images = convert_from_path(path+'/'+foldername)\n",
    "        i = 0\n",
    "        for image in images:\n",
    "            image.save('./trf/' + str(now)+'/'+foldername+'/'+'trf_'+ str(now)+'_{}.png'.format(i), 'png')\n",
    "            i += 1\n",
    "\n",
    "        # カレントディレクトリの全画像をループする\n",
    "        for filename in os.listdir('./trf/'+str(now)+'/'+foldername):# ❶\n",
    "            ext = os.path.splitext(filename)\n",
    "            if ext == '.png' or u'.jpeg' or u'.jpg':\n",
    "                img = Image.open('./trf/'+str(now) +'/'+foldername+'/'+ filename)  # ❹\n",
    "                img = img.crop((800,129,1050,190))\n",
    "                img.save('./results/'+str(now) + '/'+foldername+\"/PtID_\" + str(filename))\n",
    "\n",
    "                tools = pyocr.get_available_tools()\n",
    "                if len(tools) == 0:\n",
    "                    print(\"No OCR tool found\")\n",
    "                    sys.exit(1)\n",
    "                # The tools are returned in the recommended order of usage\n",
    "                tool = tools[0] \n",
    "                txt = tool.image_to_string(\n",
    "                    Image.open('./results/' + str(now)+ '/'+foldername+ \"/PtID_\" + str(filename)),\n",
    "                    lang=\"eng\",\n",
    "                    builder=pyocr.tesseract.DigitBuilder(tesseract_layout=6),\n",
    "                    )\n",
    "  \n",
    "                path_w = './csv/'+ str(now)+'/'+foldername+'/'+str(now)+'.csv'\n",
    "                with open(path_w, mode='a') as f:\n",
    "                    f.write(txt+'\\t')\n",
    "                    f.write(filename+'\\n')\n",
    "            \n",
    "        with open(path_w) as f:\n",
    "            print(f.read())\n",
    "            # New file\n"
   ]
  },
  {
   "cell_type": "code",
   "execution_count": null,
   "metadata": {},
   "outputs": [],
   "source": []
  }
 ],
 "metadata": {
  "kernelspec": {
   "display_name": "Python 3",
   "language": "python",
   "name": "python3"
  },
  "language_info": {
   "codemirror_mode": {
    "name": "ipython",
    "version": 3
   },
   "file_extension": ".py",
   "mimetype": "text/x-python",
   "name": "python",
   "nbconvert_exporter": "python",
   "pygments_lexer": "ipython3",
   "version": "3.6.8"
  }
 },
 "nbformat": 4,
 "nbformat_minor": 2
}
