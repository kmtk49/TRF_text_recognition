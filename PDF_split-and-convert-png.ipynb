{
 "cells": [
  {
   "cell_type": "code",
   "execution_count": 6,
   "metadata": {},
   "outputs": [],
   "source": [
    "#https://shotanuki.com/python%E3%81%A7pdf%E3%82%92%E7%94%BB%E5%83%8F%E3%81%AB%E5%A4%89%E6%8F%9B%E3%81%99%E3%82%8B/\n",
    "#PythonでPDFを画像に変換する\n",
    "from pdf2image import convert_from_path\n",
    "import datetime\n",
    "#Simport os\n",
    "now = datetime.date.today()\n",
    "\n",
    "path = './mergedTRF/Afp4_1-10.pdf'\n",
    "images = convert_from_path(path)\n",
    "#os.makedirs('./trf/'+str(now), exist_ok=True)\n",
    "i = 0\n",
    "for image in images:\n",
    "    image.save('./trf/'+str(now) +'/trf' + str(now)+'_{}.png'.format(i), 'png')\n",
    "    i += 1\n"
   ]
  },
  {
   "cell_type": "code",
   "execution_count": null,
   "metadata": {},
   "outputs": [],
   "source": []
  }
 ],
 "metadata": {
  "kernelspec": {
   "display_name": "Python 3",
   "language": "python",
   "name": "python3"
  },
  "language_info": {
   "codemirror_mode": {
    "name": "ipython",
    "version": 3
   },
   "file_extension": ".py",
   "mimetype": "text/x-python",
   "name": "python",
   "nbconvert_exporter": "python",
   "pygments_lexer": "ipython3",
   "version": "3.6.8"
  }
 },
 "nbformat": 4,
 "nbformat_minor": 2
}
