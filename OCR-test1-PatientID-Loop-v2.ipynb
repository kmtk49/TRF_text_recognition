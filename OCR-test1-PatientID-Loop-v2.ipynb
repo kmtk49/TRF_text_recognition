{
 "cells": [
  {
   "cell_type": "code",
   "execution_count": 2,
   "metadata": {},
   "outputs": [
    {
     "name": "stdout",
     "output_type": "stream",
     "text": [
      "2716909 - trf2019-07-10_5.png\n",
      "2724719 - trf2019-07-10_4.png\n",
      "2740495 - trf2019-07-10_9.png\n",
      "2736356 - trf2019-07-10_2.png\n",
      "2742369 - trf2019-07-10_1.png\n",
      "2707783 - trf2019-07-10_6.png\n",
      "2736357 - trf2019-07-10_0.png\n",
      "2715977 - trf2019-07-10_7.png\n",
      "2738500 - trf2019-07-10_8.png\n",
      "- .\n",
      "\n",
      "2742031 - trf2019-07-10_3.png\n"
     ]
    }
   ],
   "source": [
    "#PythonでOCRがんばる(1) hhttp://sakataharumi.hatenablog.jp/entry/2016/09/16/20160916040943/\n",
    "#tesseractでOCR〜数字だけでも〜 http://sakataharumi.hatenablog.jp/entry/2016/09/16/20160916052946/\n",
    "# p87 17.3.2 ステップ2：全ファイルをループして画像を開く https://www.oreilly.co.jp/pub/9784873117782/auto-sample.pdf\n",
    "# cv2の部分をPILに変えて、画像のみとして処理することでLoopがうまくいった\n",
    "\n",
    "from PIL import Image\n",
    "import cv2\n",
    "import sys,os\n",
    "import pyocr\n",
    "import pyocr.builders\n",
    "\n",
    "# カレントディレクトリの全画像をループする\n",
    "for filename in os.listdir('./trf/'):# ❶\n",
    "    ext = os.path.splitext(filename)\n",
    "    if ext == '.png' or u'.jpeg' or u'.jpg':\n",
    "        img = Image.open('./trf/' + filename)  # ❹\n",
    "        img = img.crop((800,129,1050,197))\n",
    "        img.save('./results/' + \"PtID_\" + str(filename))\n",
    "        #img.show()\n",
    "\n",
    "        tools = pyocr.get_available_tools()\n",
    "        if len(tools) == 0:\n",
    "            print(\"No OCR tool found\")\n",
    "            sys.exit(1)\n",
    "        # The tools are returned in the recommended order of usage\n",
    "        tool = tools[0] \n",
    "        txt = tool.image_to_string(\n",
    "            Image.open('./results/' +  \"PtID_\" + str(filename)),\n",
    "            lang=\"eng\",\n",
    "            builder=pyocr.tesseract.DigitBuilder()\n",
    "            )\n",
    "        print(txt,filename)"
   ]
  },
  {
   "cell_type": "code",
   "execution_count": null,
   "metadata": {},
   "outputs": [],
   "source": []
  }
 ],
 "metadata": {
  "kernelspec": {
   "display_name": "Python 3",
   "language": "python",
   "name": "python3"
  },
  "language_info": {
   "codemirror_mode": {
    "name": "ipython",
    "version": 3
   },
   "file_extension": ".py",
   "mimetype": "text/x-python",
   "name": "python",
   "nbconvert_exporter": "python",
   "pygments_lexer": "ipython3",
   "version": "3.6.8"
  }
 },
 "nbformat": 4,
 "nbformat_minor": 2
}
