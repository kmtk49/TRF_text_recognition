{
 "cells": [
  {
   "cell_type": "code",
   "execution_count": 1,
   "metadata": {},
   "outputs": [],
   "source": [
    "#ディレクトリを中身ごと削除: shutil.rmtree() https://note.nkmk.me/python-os-remove-rmdir-removedirs-shutil-rmtree/\n",
    "import datetime\n",
    "now = datetime.date.today()\n",
    "import shutil\n",
    "#例外処理 https://note.nkmk.me/python-os-remove-rmdir-removedirs-shutil-rmtree/\n",
    "try:\n",
    "    shutil.rmtree('./trf/'+str(now)) \n",
    "    shutil.rmtree('./results/'+str(now)) \n",
    "    shutil.rmtree('./csv/'+str(now))\n",
    "except OSError as e:\n",
    "    pass\n",
    "\n",
    "#Pythonで新しいディレクトリにファイルを作成・保存 https://note.nkmk.me/python-save-file-at-new-dir/\n",
    "import os\n",
    "os.mkdir('./trf/'+str(now)) \n",
    "os.mkdir('./results/'+str(now)) \n",
    "os.mkdir('./csv/'+str(now)) "
   ]
  },
  {
   "cell_type": "code",
   "execution_count": 2,
   "metadata": {},
   "outputs": [
    {
     "name": "stdout",
     "output_type": "stream",
     "text": [
      "['./mergedTRF/2019-07-02/31.pdf', './mergedTRF/2019-07-02/41-44.pdf', './mergedTRF/2019-07-02/21.pdf']\n"
     ]
    }
   ],
   "source": [
    "#https://shotanuki.com/python%E3%81%A7pdf%E3%82%92%E7%94%BB%E5%83%8F%E3%81%AB%E5%A4%89%E6%8F%9B%E3%81%99%E3%82%8B/\n",
    "#PythonでPDFを画像に変換する\n",
    "# pdf2image 2回PIPでインストールできた\n",
    "from pdf2image import convert_from_path\n",
    "import glob\n",
    "\n",
    "path_list = glob.glob('./mergedTRF/'+str(now)+'/*.pdf')\n",
    "print(path_list)"
   ]
  },
  {
   "cell_type": "code",
   "execution_count": 3,
   "metadata": {},
   "outputs": [
    {
     "name": "stdout",
     "output_type": "stream",
     "text": [
      "2003957\ttrf_2019-07-02_8.png\t31.pdf\n",
      "2350056\ttrf_2019-07-02_4.png\t31.pdf\n",
      "2347849\ttrf_2019-07-02_2.png\t31.pdf\n",
      "2349618\ttrf_2019-07-02_1.png\t31.pdf\n",
      "2003602\ttrf_2019-07-02_7.png\t31.pdf\n",
      "2348044\ttrf_2019-07-02_0.png\t31.pdf\n",
      "2735491 .\ttrf_2019-07-02_6.png\t31.pdf\n",
      "2345551\ttrf_2019-07-02_5.png\t31.pdf\n",
      "2347869\ttrf_2019-07-02_3.png\t31.pdf\n",
      "2710437\ttrf_2019-07-02_9.png\t31.pdf\n",
      "2137241\ttrf_2019-07-02_2.png\t41-44.pdf\n",
      "2737237\ttrf_2019-07-02_1.png\t41-44.pdf\n",
      "2692497\ttrf_2019-07-02_0.png\t41-44.pdf\n",
      "2737242\ttrf_2019-07-02_3.png\t41-44.pdf\n",
      "93019RE\ttrf_2019-07-02_8.png\t21.pdf\n",
      "2350832N\ttrf_2019-07-02_4.png\t21.pdf\n",
      "2040454\ttrf_2019-07-02_2.png\t21.pdf\n",
      "2251244\ttrf_2019-07-02_1.png\t21.pdf\n",
      "2280NK1T 7\ttrf_2019-07-02_7.png\t21.pdf\n",
      "2333931\ttrf_2019-07-02_0.png\t21.pdf\n",
      "22BNKR2E\ttrf_2019-07-02_6.png\t21.pdf\n",
      "2337179\ttrf_2019-07-02_5.png\t21.pdf\n",
      "27041 2E€Q\ttrf_2019-07-02_3.png\t21.pdf\n",
      "2327732\ttrf_2019-07-02_9.png\t21.pdf\n",
      "\n"
     ]
    }
   ],
   "source": [
    "#PythonでOCRがんばる(1) hhttp://sakataharumi.hatenablog.jp/entry/2016/09/16/20160916040943/\n",
    "#tesseractでOCR〜数字だけでも〜 http://sakataharumi.hatenablog.jp/entry/2016/09/16/20160916052946/\n",
    "# p87 17.3.2 ステップ2：全ファイルをループして画像を開く https://www.oreilly.co.jp/pub/9784873117782/auto-sample.pdf\n",
    "\n",
    "from PIL import Image\n",
    "import cv2\n",
    "import sys,os\n",
    "import pyocr\n",
    "import pyocr.builders\n",
    "import csv\n",
    "import datetime\n",
    "now = datetime.date.today()\n",
    "\n",
    "# nowフォルダのPDFをループする\n",
    "path = './mergedTRF/'+ str(now)\n",
    "for foldername in os.listdir(path):# ❶\n",
    "    if os.path.isfile(os.path.join(path, foldername)):\n",
    "        subfolder = os.path.basename(path)\n",
    "        os.mkdir('./trf/'+str(now)+'/'+ foldername) \n",
    "        os.mkdir('./results/'+str(now)+'/'+ foldername) \n",
    "\n",
    "        images = convert_from_path(path+'/'+foldername)\n",
    "        i = 0\n",
    "        for image in images:\n",
    "            image.save('./trf/' + str(now)+'/'+foldername+'/'+'trf_'+ str(now)+'_{}.png'.format(i), 'png')\n",
    "            i += 1\n",
    "\n",
    "        # カレントディレクトリの全画像をループする\n",
    "        for filename in os.listdir('./trf/'+str(now)+'/'+foldername):# ❶\n",
    "            ext = os.path.splitext(filename)\n",
    "            if ext == '.png' or u'.jpeg' or u'.jpg':\n",
    "                img = Image.open('./trf/'+str(now) +'/'+foldername+'/'+ filename)  # ❹\n",
    "                img = img.crop((800,129,1050,190))\n",
    "                img.save('./results/'+str(now) + '/'+foldername+\"/PtID_\" + str(filename))\n",
    "\n",
    "                tools = pyocr.get_available_tools()\n",
    "                if len(tools) == 0:\n",
    "                    print(\"No OCR tool found\")\n",
    "                    sys.exit(1)\n",
    "                # The tools are returned in the recommended order of usage\n",
    "                tool = tools[0] \n",
    "                txt = tool.image_to_string(\n",
    "                    Image.open('./results/' + str(now)+ '/'+foldername+ \"/PtID_\" + str(filename)),\n",
    "                    lang=\"eng\",\n",
    "                    builder=pyocr.tesseract.DigitBuilder(tesseract_layout=6),\n",
    "                    )\n",
    "                path_w = './csv/'+ str(now)+'/'+str(now)+'.csv'\n",
    "                with open(path_w, mode='a') as f:\n",
    "                    f.write(txt+'\\t')\n",
    "                    f.write(filename+'\\t')\n",
    "                    f.write(foldername+'\\n')\n",
    "            \n",
    "with open(path_w) as f:\n",
    "     print(f.read())\n",
    "    # New file\n"
   ]
  },
  {
   "cell_type": "code",
   "execution_count": null,
   "metadata": {},
   "outputs": [],
   "source": []
  }
 ],
 "metadata": {
  "kernelspec": {
   "display_name": "Python 3",
   "language": "python",
   "name": "python3"
  },
  "language_info": {
   "codemirror_mode": {
    "name": "ipython",
    "version": 3
   },
   "file_extension": ".py",
   "mimetype": "text/x-python",
   "name": "python",
   "nbconvert_exporter": "python",
   "pygments_lexer": "ipython3",
   "version": "3.6.8"
  }
 },
 "nbformat": 4,
 "nbformat_minor": 2
}
